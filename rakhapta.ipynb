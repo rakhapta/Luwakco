{
 "cells": [
  {
   "cell_type": "markdown",
   "metadata": {},
   "source": [
    "asdasdasd\n"
   ]
  },
  {
   "cell_type": "markdown",
   "metadata": {},
   "source": [
    "woi kocag"
   ]
  }
 ],
 "metadata": {
  "language_info": {
   "name": "python"
  }
 },
 "nbformat": 4,
 "nbformat_minor": 2
}
